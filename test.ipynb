{
 "cells": [
  {
   "cell_type": "code",
   "execution_count": 1,
   "metadata": {},
   "outputs": [],
   "source": [
    "lines = []\n",
    "\n",
    "with open(\"bunny.obj\", \"r\") as f:\n",
    "    lines = f.readlines()"
   ]
  },
  {
   "cell_type": "code",
   "execution_count": 4,
   "metadata": {},
   "outputs": [
    {
     "name": "stdout",
     "output_type": "stream",
     "text": [
      "34817\n",
      "34817\n",
      "True\n"
     ]
    }
   ],
   "source": [
    "vert_lines = [[float(i) for i in line.strip(\"\\n\").split(\" \")[1:]] for line in lines if line.split(\" \")[0] == \"v\"]\n",
    "\n",
    "normal_lines = [[float(i) for i in line.strip(\"\\n\").split(\" \")[1:]] for line in lines if line.split(\" \")[0] == \"vn\"]\n",
    "\n",
    "print(len(vert_lines))\n",
    "print(len(normal_lines))\n",
    "print(len(vert_lines) == len(normal_lines))\n"
   ]
  },
  {
   "cell_type": "code",
   "execution_count": 5,
   "metadata": {},
   "outputs": [
    {
     "name": "stdout",
     "output_type": "stream",
     "text": [
      "min_x=-1.893798\n",
      "max_x=1.220182\n",
      "min_y=-0.340252\n",
      "max_y=2.74642\n",
      "min_z=-1.237472\n",
      "max_z=1.175994\n"
     ]
    }
   ],
   "source": [
    "min_x = float(\"inf\")\n",
    "max_x = float(\"-inf\")\n",
    "\n",
    "min_y = float(\"inf\")\n",
    "max_y = float(\"-inf\")\n",
    "\n",
    "min_z = float(\"inf\")\n",
    "max_z = float(\"-inf\")\n",
    "\n",
    "for x, y, z in vert_lines:\n",
    "    min_x = min(min_x, x)\n",
    "    max_x = max(max_x, x)\n",
    "\n",
    "    min_y = min(min_y, y)\n",
    "    max_y = max(max_y, y)\n",
    "\n",
    "    min_z = min(min_z, z)\n",
    "    max_z = max(max_z, z)\n",
    "\n",
    "\n",
    "print(f\"{min_x=}\")\n",
    "print(f\"{max_x=}\")\n",
    "print(f\"{min_y=}\")\n",
    "print(f\"{max_y=}\")\n",
    "print(f\"{min_z=}\")\n",
    "print(f\"{max_z=}\")\n",
    "\n",
    "\n",
    "\n",
    "\n",
    "\n"
   ]
  },
  {
   "cell_type": "code",
   "execution_count": 6,
   "metadata": {},
   "outputs": [
    {
     "name": "stdout",
     "output_type": "stream",
     "text": [
      "size_x=3.11398\n",
      "size_y=3.086672\n",
      "size_z=2.4134659999999997\n",
      "origin_x=-0.336808\n",
      "origin_y=1.203084\n",
      "origin_z=-0.030739000000000072\n"
     ]
    }
   ],
   "source": [
    "# coordenadas x entre -1.89 e 1.22\n",
    "# coordenadas y entre -0.33 e 2.75\n",
    "# coordenadas z entre -1.22 e 1.18\n",
    "\n",
    "size_x = abs(min_x) + abs(max_x)\n",
    "size_y = abs(min_y) + abs(max_y)\n",
    "size_z = abs(min_z) + abs(max_z)\n",
    "\n",
    "print(f\"{size_x=}\")\n",
    "print(f\"{size_y=}\")\n",
    "print(f\"{size_z=}\")\n",
    "\n",
    "# origem eixo x:\n",
    "origin_x = min_x + size_x / 2\n",
    "origin_y = min_y + size_y / 2\n",
    "origin_z = min_z + size_z / 2\n",
    "\n",
    "print(f\"{origin_x=}\")\n",
    "print(f\"{origin_y=}\")\n",
    "print(f\"{origin_z=}\")\n"
   ]
  },
  {
   "cell_type": "code",
   "execution_count": 7,
   "metadata": {},
   "outputs": [
    {
     "name": "stdout",
     "output_type": "stream",
     "text": [
      "origin_x=-0.336808\n"
     ]
    }
   ],
   "source": [
    "origin_x = max_x - size_x / 2\n",
    "\n",
    "print(f\"{origin_x=}\")\n"
   ]
  },
  {
   "cell_type": "code",
   "execution_count": 8,
   "metadata": {},
   "outputs": [
    {
     "name": "stdout",
     "output_type": "stream",
     "text": [
      "0.778495\n",
      "0.771668\n",
      "0.6033664999999999\n"
     ]
    }
   ],
   "source": [
    "scale_x = size_x / 200 * 50\n",
    "scale_y = size_y / 200 * 50\n",
    "scale_z = size_z / 200 * 50\n",
    "\n",
    "print(f\"{scale_x}\")\n",
    "print(f\"{scale_y}\")\n",
    "print(f\"{scale_z}\")\n"
   ]
  }
 ],
 "metadata": {
  "kernelspec": {
   "display_name": ".venv",
   "language": "python",
   "name": "python3"
  },
  "language_info": {
   "codemirror_mode": {
    "name": "ipython",
    "version": 3
   },
   "file_extension": ".py",
   "mimetype": "text/x-python",
   "name": "python",
   "nbconvert_exporter": "python",
   "pygments_lexer": "ipython3",
   "version": "3.12.5"
  }
 },
 "nbformat": 4,
 "nbformat_minor": 2
}
